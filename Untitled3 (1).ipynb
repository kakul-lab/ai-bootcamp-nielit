{
  "nbformat": 4,
  "nbformat_minor": 0,
  "metadata": {
    "colab": {
      "provenance": []
    },
    "kernelspec": {
      "name": "python3",
      "display_name": "Python 3"
    },
    "language_info": {
      "name": "python"
    }
  },
  "cells": [
    {
      "cell_type": "code",
      "execution_count": 1,
      "metadata": {
        "colab": {
          "base_uri": "https://localhost:8080/"
        },
        "id": "bC4jSDqY1ipS",
        "outputId": "bea80ce0-6db1-491f-ba27-8811d746c974"
      },
      "outputs": [
        {
          "output_type": "stream",
          "name": "stdout",
          "text": [
            "hello,world!\n"
          ]
        }
      ],
      "source": [
        "print(\"hello,world!\")"
      ]
    },
    {
      "cell_type": "code",
      "source": [
        "a = 5\n",
        "b = 6.5\n",
        "# Addition\n",
        "c = a + b\n",
        "print(\"The sum of two number is\" ,c)"
      ],
      "metadata": {
        "colab": {
          "base_uri": "https://localhost:8080/"
        },
        "id": "ghceYrCh13TB",
        "outputId": "9e0a5dab-5bf4-4f93-f3dc-ae6a5b8f8b72"
      },
      "execution_count": 2,
      "outputs": [
        {
          "output_type": "stream",
          "name": "stdout",
          "text": [
            "The sum of two number is 11.5\n"
          ]
        }
      ]
    },
    {
      "cell_type": "code",
      "source": [
        "from re import L\n",
        "j = float (input(\" Enter first number: \"))\n",
        "k = float (input(\"Enter second number:\"))\n",
        "l = j*k\n",
        "print(\"The product of two number is\",l)\n"
      ],
      "metadata": {
        "colab": {
          "base_uri": "https://localhost:8080/"
        },
        "id": "ht3r8Lpn2X8X",
        "outputId": "ec1cc54a-4bc4-48e0-c9ce-4ea729d79f82"
      },
      "execution_count": 4,
      "outputs": [
        {
          "output_type": "stream",
          "name": "stdout",
          "text": [
            " Enter first number: 45\n",
            "Enter second number:76\n",
            "The product of two number is 3420.0\n"
          ]
        }
      ]
    }
  ]
}